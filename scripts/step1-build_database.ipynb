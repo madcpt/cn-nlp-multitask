{
 "cells": [
  {
   "cell_type": "code",
   "execution_count": null,
   "metadata": {},
   "outputs": [],
   "source": [
    "import pandas as pd\n",
    "from bs4 import BeautifulSoup\n",
    "import bs4\n",
    "from databases import Database"
   ]
  },
  {
   "cell_type": "code",
   "execution_count": null,
   "metadata": {},
   "outputs": [],
   "source": [
    "df = pd.read_excel('../data/data.xlsx', sheet_name='Sheet1', index_col=0, header=None)\n",
    "len(df)"
   ]
  },
  {
   "cell_type": "code",
   "execution_count": null,
   "metadata": {},
   "outputs": [],
   "source": [
    "database = Database(\"sqlite:///../data/data.db\")\n",
    "await database.connect()"
   ]
  },
  {
   "cell_type": "code",
   "execution_count": null,
   "metadata": {},
   "outputs": [],
   "source": [
    "# Create a table.\n",
    "await database.execute(query=\"\"\"CREATE TABLE IF NOT EXISTS articles (\n",
    "                                     id integer PRIMARY KEY,\n",
    "                                     title text NOT NULL,\n",
    "                                     publish_date text,\n",
    "                                     content text\n",
    "                                 );\"\"\")"
   ]
  },
  {
   "cell_type": "code",
   "execution_count": null,
   "metadata": {},
   "outputs": [],
   "source": [
    "# Insert some data.\n",
    "query = \"INSERT INTO articles(title, publish_date, content) VALUES (:title, :publish_date, :content)\"\n",
    "values = []\n",
    "\n",
    "for i in range(len(df)):\n",
    "    html_doc = df.iloc[i].name\n",
    "    soup = BeautifulSoup(html_doc,'html.parser')\n",
    "\n",
    "    content = []\n",
    "    for p in soup.body.findAll('p'):\n",
    "        if p.span:\n",
    "            content.extend(p.span.contents)\n",
    "        if p.a:\n",
    "            content.extend(p.a.contents)\n",
    "        content.extend(p.contents)\n",
    "    content = [x for x in content if type(x) == bs4.element.NavigableString]\n",
    "\n",
    "    # html_doc\n",
    "    values.append({\n",
    "        'title': soup.title.contents[0],\n",
    "        'publish_date': soup.head.find(\"meta\", {\"name\": \"firstpublishedtime\"}).get('content'),\n",
    "        'content': '\\n'.join(content),\n",
    "    })\n",
    "\n",
    "await database.execute_many(query=query, values=values)"
   ]
  },
  {
   "cell_type": "code",
   "execution_count": null,
   "metadata": {},
   "outputs": [],
   "source": [
    "# Run a database query.\n",
    "query = \"SELECT * FROM articles\"\n",
    "\n",
    "rows = await database.fetch_all(query=query)\n",
    "len(rows), rows[0]"
   ]
  }
 ],
 "metadata": {
  "kernelspec": {
   "display_name": "Python 3.8.10 64-bit",
   "language": "python",
   "name": "python3"
  },
  "language_info": {
   "codemirror_mode": {
    "name": "ipython",
    "version": 3
   },
   "file_extension": ".py",
   "mimetype": "text/x-python",
   "name": "python",
   "nbconvert_exporter": "python",
   "pygments_lexer": "ipython3",
   "version": "3.8.10"
  },
  "orig_nbformat": 4,
  "vscode": {
   "interpreter": {
    "hash": "916dbcbb3f70747c44a77c7bcd40155683ae19c65e1c03b4aa3499c5328201f1"
   }
  }
 },
 "nbformat": 4,
 "nbformat_minor": 2
}
